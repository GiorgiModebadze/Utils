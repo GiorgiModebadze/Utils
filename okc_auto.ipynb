{
 "cells": [
  {
   "cell_type": "code",
   "execution_count": 53,
   "metadata": {},
   "outputs": [],
   "source": [
    "# all important imports\n",
    "from urllib.request import urlopen as uReq\n",
    "from bs4 import BeautifulSoup \n",
    "from selenium import webdriver\n",
    "import random\n",
    "import time"
   ]
  },
  {
   "cell_type": "code",
   "execution_count": 54,
   "metadata": {},
   "outputs": [],
   "source": [
    "# opens web browser\n",
    "dr = webdriver.Chrome()"
   ]
  },
  {
   "cell_type": "code",
   "execution_count": 55,
   "metadata": {},
   "outputs": [],
   "source": [
    "# gets some pick up lines so you dont have to bother\n",
    "pick_up_phrases = 'http://pun.me/pages/cheesy-pick-up-lines.php'\n",
    "page = uReq(pick_up_phrases)\n",
    "bs = BeautifulSoup(page.read(),\"html.parser\")\n",
    "\n",
    "pick_up_lines = list()\n",
    "\n",
    "lines = bs.find_all('li', href = False)\n",
    "for line in lines:\n",
    "    if '<a' in str(line):\n",
    "        continue\n",
    "    else:\n",
    "        pick_up_lines.append(line.text)"
   ]
  },
  {
   "cell_type": "code",
   "execution_count": 56,
   "metadata": {},
   "outputs": [],
   "source": [
    "pick_up_phrases = 'https://thoughtcatalog.com/kendra-syrdal/2016/05/101-online-dating-openers-that-are-way-better-than-just-saying-hi/'\n",
    "page = uReq(pick_up_phrases)\n",
    "bs = BeautifulSoup(page.read(),\"html.parser\")\n",
    "\n",
    "items = bs.find('div',{'class':'entry'})\n",
    "\n",
    "lines = items.find_all('p')\n",
    "\n",
    "for line in lines:\n",
    "    pick_up_lines.append(line.text)"
   ]
  },
  {
   "cell_type": "code",
   "execution_count": 57,
   "metadata": {},
   "outputs": [],
   "source": [
    "# opens the browser and lets you log in unless you login dont start next process\n",
    "main_link = 'https://www.okcupid.com'\n",
    "# to enter your credentials\n",
    "my_url_Page = main_link+'/doubletake'\n",
    "dr.get(my_url_Page)"
   ]
  },
  {
   "cell_type": "code",
   "execution_count": 58,
   "metadata": {},
   "outputs": [],
   "source": [
    "people_matched = list()"
   ]
  },
  {
   "cell_type": "code",
   "execution_count": null,
   "metadata": {},
   "outputs": [],
   "source": [
    "# check the person. If match rate is more than 80% then sends of random pick up line\n",
    "for a in range (1,100):\n",
    "    # person, pick up line\n",
    "    \n",
    "    person = dict()\n",
    "    \n",
    "    # to make less predictable for the webpage\n",
    "    rand_timeout = random.randint(5,10)\n",
    "    \n",
    "    my_url_Page = main_link+'/doubletake'\n",
    "    dr.get(my_url_Page)\n",
    "    bs = BeautifulSoup(dr.page_source,\"html.parser\")\n",
    "    \n",
    "    match_prc = bs.find('span',{'class':'cardsummary-match-pct'}).text\n",
    "    match_number = int(match_prc.replace('%',''))\n",
    "    \n",
    "    # if the match rate is more than 85\n",
    "    if match_number > 85:\n",
    "        # just in case something goes wrong or response is not delivered in time\n",
    "        try:\n",
    "            match_profile = bs.find('div',{'class':'cardsummary-item cardsummary-profile-link'})\n",
    "            new_link = main_link + match_profile.find('a',href = True)['href']\n",
    "            dr.get(new_link)\n",
    "            button_like = dr.find_element_by_id('like-button')\n",
    "            button_like.click()\n",
    "\n",
    "            time.sleep(rand_timeout)\n",
    "\n",
    "            # to make it more customizable we can add name in from.\n",
    "            bsn = BeautifulSoup(dr.page_source,\"html.parser\")\n",
    "            name = bsn.find('div',{'class':'userinfo2015-basics-username'}).text.strip()\n",
    "            pick_up_line = random.choice(pick_up_lines).strip()\n",
    "            \n",
    "            person['name'] = name\n",
    "            person['pick_up_line'] = pick_up_line   \n",
    "            people_matched.append(person)\n",
    "            \n",
    "            time.sleep(rand_timeout)\n",
    "\n",
    "            text = dr.find_element_by_class_name('messenger-composer')\n",
    "            text.send_keys(\"Hey \",name,'. ',pick_up_line)\n",
    "            time.sleep(1)\n",
    "            button_send = dr.find_element_by_class_name('messenger-toolbar-send')\n",
    "            button_send.click()\n",
    "            \n",
    "            time.sleep(rand_timeout)\n",
    "            \n",
    "        except:\n",
    "            pass\n",
    "    else:\n",
    "        try:\n",
    "            button_reject = dr.find_element_by_class_name('cardactions-action')\n",
    "            button_reject.click()\n",
    "\n",
    "            time.sleep(rand_timeout)\n",
    "        except:\n",
    "            pass"
   ]
  },
  {
   "cell_type": "code",
   "execution_count": 65,
   "metadata": {
    "scrolled": true
   },
   "outputs": [
    {
     "name": "stdout",
     "output_type": "stream",
     "text": [
      "[{'name': 'Rubi', 'pick_up_line': \"My love for you is like diarrhoea, I just can't hold it in.\"}, {'name': 'Sonja', 'pick_up_line': 'Fuck, marry, kill. Ellen, Oprah, Chelsea Handler?'}, {'name': 'Lena', 'pick_up_line': 'Are you craving Pizza? Because I’d love to get a pizz-a you'}, {'name': 'Rieke', 'pick_up_line': \"Did you hear of the new disease called beautiful, I think you're infected.\"}, {'name': 'El', 'pick_up_line': 'Swear to drunk\\xa0I’m not God…just intoxicated by you.'}, {'name': 'Mila', 'pick_up_line': 'You know what would be great? Talking to you.'}, {'name': 'Melina', 'pick_up_line': 'Remember me? Oh, that’s right, I’ve met you only in my dreams.'}, {'name': 'Yhenni', 'pick_up_line': 'What’s something no one would guess about you from a first impression?'}, {'name': 'Amy', 'pick_up_line': 'Want to engage in a textually active relationship?'}, {'name': 'Amy', 'pick_up_line': 'Sorry for all of the gross messages you probably get here 😕'}, {'name': 'Sophie', 'pick_up_line': 'Sorry for all of the gross messages you probably get here 😕'}, {'name': 'Claudia', 'pick_up_line': 'Real Talk. Who would you want on your team during a zombie apocalypse?'}, {'name': 'Laura', 'pick_up_line': 'I don’t want to intimidate you but, I made a doctor’s appointment without asking my mom for help this week. No biggie. *slicks hair back*'}, {'name': 'Caro', 'pick_up_line': 'Favorite day of the week?'}, {'name': 'Franzi', 'pick_up_line': 'Do you want to see a picture of a beautiful person? (hold up a mirror)'}, {'name': 'Jaqueline', 'pick_up_line': 'What’s the most embarrassing thing I’ll find if I Google you?'}, {'name': 'Jule', 'pick_up_line': 'Life without you is like a broken pencil... pointless.'}, {'name': 'Melli', 'pick_up_line': 'Let’s go do something fun.'}, {'name': 'Emma', 'pick_up_line': '🤘out with your ⌨ out (message me back plz!)'}, {'name': 'Sandra', 'pick_up_line': 'Are you French because Eiffel for you.'}, {'name': 'Fidelia', 'pick_up_line': 'I bet you’re more cool IRL than via URL.'}, {'name': 'Lupe', 'pick_up_line': 'You must be a ninja, because you snuck into my heart'}, {'name': 'Ginevra', 'pick_up_line': \"Thank god I'm wearing gloves because you are too hot to handle.\"}]\n"
     ]
    }
   ],
   "source": [
    "print(people_matched)"
   ]
  },
  {
   "cell_type": "code",
   "execution_count": null,
   "metadata": {},
   "outputs": [],
   "source": []
  }
 ],
 "metadata": {
  "kernelspec": {
   "display_name": "Python 3",
   "language": "python",
   "name": "python3"
  },
  "language_info": {
   "codemirror_mode": {
    "name": "ipython",
    "version": 3
   },
   "file_extension": ".py",
   "mimetype": "text/x-python",
   "name": "python",
   "nbconvert_exporter": "python",
   "pygments_lexer": "ipython3",
   "version": "3.7.2"
  },
  "varInspector": {
   "cols": {
    "lenName": 16,
    "lenType": 16,
    "lenVar": 40
   },
   "kernels_config": {
    "python": {
     "delete_cmd_postfix": "",
     "delete_cmd_prefix": "del ",
     "library": "var_list.py",
     "varRefreshCmd": "print(var_dic_list())"
    },
    "r": {
     "delete_cmd_postfix": ") ",
     "delete_cmd_prefix": "rm(",
     "library": "var_list.r",
     "varRefreshCmd": "cat(var_dic_list()) "
    }
   },
   "types_to_exclude": [
    "module",
    "function",
    "builtin_function_or_method",
    "instance",
    "_Feature"
   ],
   "window_display": false
  }
 },
 "nbformat": 4,
 "nbformat_minor": 2
}
