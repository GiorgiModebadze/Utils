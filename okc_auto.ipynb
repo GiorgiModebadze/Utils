{
 "cells": [
  {
   "cell_type": "code",
   "execution_count": 55,
   "metadata": {},
   "outputs": [],
   "source": [
    "# all important imports\n",
    "from urllib.request import urlopen as uReq\n",
    "from bs4 import BeautifulSoup \n",
    "from selenium import webdriver\n",
    "import random\n",
    "import time\n",
    "import json"
   ]
  },
  {
   "cell_type": "code",
   "execution_count": 2,
   "metadata": {},
   "outputs": [],
   "source": [
    "# opens web browser\n",
    "dr = webdriver.Chrome()"
   ]
  },
  {
   "cell_type": "code",
   "execution_count": 3,
   "metadata": {},
   "outputs": [],
   "source": [
    "# gets some pick up lines so you dont have to bother\n",
    "pick_up_phrases = 'http://pun.me/pages/cheesy-pick-up-lines.php'\n",
    "page = uReq(pick_up_phrases)\n",
    "bs = BeautifulSoup(page.read(),\"html.parser\")\n",
    "\n",
    "pick_up_lines = list()\n",
    "\n",
    "lines = bs.find_all('li', href = False)\n",
    "for line in lines:\n",
    "    if '<a' in str(line):\n",
    "        continue\n",
    "    else:\n",
    "        pick_up_lines.append(line.text)"
   ]
  },
  {
   "cell_type": "code",
   "execution_count": 4,
   "metadata": {},
   "outputs": [],
   "source": [
    "pick_up_phrases = 'https://thoughtcatalog.com/kendra-syrdal/2016/05/101-online-dating-openers-that-are-way-better-than-just-saying-hi/'\n",
    "page = uReq(pick_up_phrases)\n",
    "bs = BeautifulSoup(page.read(),\"html.parser\")\n",
    "\n",
    "items = bs.find('div',{'class':'entry'})\n",
    "\n",
    "lines = items.find_all('p')\n",
    "\n",
    "for line in lines:\n",
    "    pick_up_lines.append(line.text)"
   ]
  },
  {
   "cell_type": "code",
   "execution_count": 5,
   "metadata": {},
   "outputs": [],
   "source": [
    "# opens the browser and lets you log in unless you login dont start next process\n",
    "main_link = 'https://www.okcupid.com'\n",
    "# to enter your credentials\n",
    "my_url_Page = main_link+'/doubletake'\n",
    "dr.get(my_url_Page)"
   ]
  },
  {
   "cell_type": "code",
   "execution_count": 70,
   "metadata": {},
   "outputs": [],
   "source": [
    "people = list()"
   ]
  },
  {
   "cell_type": "code",
   "execution_count": 73,
   "metadata": {},
   "outputs": [],
   "source": [
    "# check the person. If match rate is more than 80% then sends of random pick up line\n",
    "for a in range (1,2):\n",
    "    # person, pick up line\n",
    "    person = dict()\n",
    "\n",
    "    # to make less predictable for the webpage\n",
    "    rand_timeout = random.randint(5,10)\n",
    "\n",
    "    my_url_Page = main_link+'/doubletake'\n",
    "    dr.get(my_url_Page)\n",
    "    bs = BeautifulSoup(dr.page_source,\"html.parser\")\n",
    "\n",
    "    match_prc = bs.find('span',{'class':'cardsummary-match-pct'}).text\n",
    "    match_number = int(match_prc.replace('%',''))\n",
    "\n",
    "\n",
    "    # gathers details about person\n",
    "    details = bs.find_all('div',{'class':'matchprofile-details-text'})\n",
    "\n",
    "    person_details = list()\n",
    "\n",
    "    for detail in details:\n",
    "        person_details.append(detail.text.strip())\n",
    "\n",
    "\n",
    "    # gathers all about part\n",
    "    all_about = bs.find_all('div',{'class':'qmessays-essay'})\n",
    "\n",
    "    about_person = list()\n",
    "\n",
    "    for about in all_about:\n",
    "        person_desc = about.find('p').text.strip()\n",
    "        person_desc_name = about.find('h2').text.strip()\n",
    "        about_dict = dict()\n",
    "        about_dict[person_desc_name] = person_desc\n",
    "        about_person.append(about_dict)\n",
    "\n",
    "    person['name'] = bs.find('div',{'class':'cardsummary-realname'}).text.strip()\n",
    "    person['age'] = bs.find('div',{'class':'cardsummary-age'}).text.strip()\n",
    "    person['location'] = bs.find('div',{'class':'cardsummary-location'}).text.strip()\n",
    "    person['match_percent'] = match_number\n",
    "    person['pick_up_line'] = pick_up_line\n",
    "    person['about'] = about_person\n",
    "    person['details'] = person_details\n",
    "\n",
    "    # if the match rate is more than 90\n",
    "    if match_number > 90:\n",
    "        # just in case something goes wrong or response is not delivered in time\n",
    "        match_profile = bs.find('div',{'class':'cardsummary-item cardsummary-profile-link'})\n",
    "        new_link = main_link + match_profile.find('a',href = True)['href']\n",
    "        dr.get(new_link)\n",
    "        button_like = dr.find_element_by_id('like-button')\n",
    "        button_like.click()\n",
    "        \n",
    "        try:\n",
    "            time.sleep(rand_timeout)\n",
    "\n",
    "            # to make it more customizable we can add name in from.\n",
    "            pick_up_line = random.choice(pick_up_lines).strip()    \n",
    "\n",
    "            time.sleep(rand_timeout)\n",
    "\n",
    "            text = dr.find_element_by_class_name('messenger-composer')\n",
    "            text.send_keys(\"Hey \",person['name'],'. ',pick_up_line)\n",
    "            time.sleep(1)\n",
    "            button_send = dr.find_element_by_class_name('messenger-toolbar-send')\n",
    "            button_send.click()\n",
    "\n",
    "            person['matched'] = True\n",
    "\n",
    "            time.sleep(rand_timeout)\n",
    "\n",
    "        except:\n",
    "            pass\n",
    "    else:\n",
    "        button_reject = dr.find_element_by_class_name('cardactions-action')\n",
    "        button_reject.click()\n",
    "        person['matched'] = False\n",
    "        time.sleep(rand_timeout)\n",
    "\n",
    "    people.append(person)\n"
   ]
  },
  {
   "cell_type": "code",
   "execution_count": 74,
   "metadata": {},
   "outputs": [],
   "source": [
    "with open('people.json', 'w') as outfile:\n",
    "    json.dump(people, outfile)"
   ]
  }
 ],
 "metadata": {
  "kernelspec": {
   "display_name": "Python 3",
   "language": "python",
   "name": "python3"
  },
  "language_info": {
   "codemirror_mode": {
    "name": "ipython",
    "version": 3
   },
   "file_extension": ".py",
   "mimetype": "text/x-python",
   "name": "python",
   "nbconvert_exporter": "python",
   "pygments_lexer": "ipython3",
   "version": "3.7.2"
  },
  "varInspector": {
   "cols": {
    "lenName": 16,
    "lenType": 16,
    "lenVar": 40
   },
   "kernels_config": {
    "python": {
     "delete_cmd_postfix": "",
     "delete_cmd_prefix": "del ",
     "library": "var_list.py",
     "varRefreshCmd": "print(var_dic_list())"
    },
    "r": {
     "delete_cmd_postfix": ") ",
     "delete_cmd_prefix": "rm(",
     "library": "var_list.r",
     "varRefreshCmd": "cat(var_dic_list()) "
    }
   },
   "types_to_exclude": [
    "module",
    "function",
    "builtin_function_or_method",
    "instance",
    "_Feature"
   ],
   "window_display": false
  }
 },
 "nbformat": 4,
 "nbformat_minor": 2
}
